{
 "cells": [
  {
   "cell_type": "markdown",
   "metadata": {},
   "source": [
    "### Given an integer, write an algorithm to convert it to hexadecimal. For negative integer, two’s complement method is used.\n",
    "\n",
    "Note:\n",
    "\n",
    "All letters in hexadecimal $(a-f)$ must be in lowercase.\n",
    "\n",
    "The hexadecimal string must not contain extra leading $0$s. If the number is zero, it is represented by a single zero character '$0$';\n",
    "otherwise, the first character in the hexadecimal string will not be the zero character.\n",
    "\n",
    "The given number is guaranteed to fit within the range of a 32-bit signed integer.\n",
    "\n",
    "You must not use any method provided by the library which converts/formats the number to hex directly."
   ]
  },
  {
   "cell_type": "markdown",
   "metadata": {},
   "source": [
    " ### 使用2的补码表示负数 Two’s complement method\n",
    " cite from [here](http://www.ruanyifeng.com/blog/2009/08/twos_complement.html)\n",
    " \n",
    " 将一个十进制负数转化为二进制2的补码形式共分三步：\n",
    "\n",
    "* 将整数位转换成二进制\n",
    "* 对每一个二进制位取反\n",
    "* 将上一步的值加1\n"
   ]
  },
  {
   "cell_type": "markdown",
   "metadata": {},
   "source": [
    "### 2补码的好处\n",
    "2的补码表示法可以将加法运算规则，扩展到整个整数集，从而用一套电路就可以实现全部整数的加法。\n",
    "### 2补码的本质\n",
    "在回答2的补码为什么能正确实现加法运算之前，我们先看看它的本质，也就是那两个步骤的转换方法是怎么来的。\n",
    "\n",
    "要将正数转成对应的负数，其实只要用0减去这个数就可以了。比如，-8其实就是0-8。\n",
    "已知8的二进制是00001000，-8就可以用下面的式子求出：\n",
    "\n",
    "　００００００００\n",
    " \n",
    "－００００１０００\n",
    "\n",
    "－－－－－－－－－\n",
    "\n",
    "因为00000000（被减数）小于0000100（减数），所以不够减。请回忆一下小学算术，如果被减数的某一位小于减数，我们怎么办？很简单，问上一位借1就可以了。\n",
    "所以，0000000也问上一位借了1，也就是说，被减数其实是100000000，算式也就改写成：\n",
    "\n",
    "１００００００００\n",
    "\n",
    "－００００１０００\n",
    "\n",
    "－－－－－－－－－\n",
    "\n",
    "　１１１１１０００\n",
    " \n",
    "进一步观察，可以发现100000000 = 11111111 + 1，所以上面的式子可以拆成两个：\n",
    "\n",
    "　１１１１１１１１\n",
    " \n",
    "－００００１０００\n",
    "\n",
    "－－－－－－－－－\n",
    "\n",
    "　１１１１０１１１\n",
    " \n",
    "＋０００００００１\n",
    "\n",
    "－－－－－－－－－\n",
    "\n",
    "　１１１１１０００\n",
    " \n",
    "2的补码的两个转换步骤就是这么来的。"
   ]
  },
  {
   "cell_type": "code",
   "execution_count": 51,
   "metadata": {
    "collapsed": false
   },
   "outputs": [],
   "source": [
    "# 第一思路\n",
    "def toHex_first(num):\n",
    "    \"\"\"\n",
    "    :type num: int\n",
    "    :rtype: str\n",
    "    \"\"\"\n",
    "    # 分情况讨论，为0，为正，为负\n",
    "    if num==0:\n",
    "        return '0'\n",
    "    # 为正时，使用除法\n",
    "    if num>0:\n",
    "        bit_16=[]\n",
    "        while(num/16!=0):\n",
    "            bit_16.append(num%16)\n",
    "            num=num/16\n",
    "        bit_16.append(num)\n",
    "        d={0:'0',1:'1',2:'2',3:'3',4:'4',5:'5',6:'6',7:'7',8:'8',9:'9',10:'a',11:'b',12:'c',13:'d',14:'e',15:'f'}\n",
    "        bit_16=bit_16[::-1]\n",
    "        bit_16_str=[]\n",
    "        for i in bit_16:\n",
    "            bit_16_str.append(d[i])\n",
    "        return ''.join(bit_16_str)\n",
    "    # 为负时使用2进制转换\n",
    "    if num<0:\n",
    "        dlist=[0000,0001,0010,0011,0100,0101,0110,0111,1000,1001,1010,1011,1100,1101,1110,1111]\n",
    "        d={0000:'0',0001:'1',0010:'2',0011:'3',0100:'4',0101:'5',0110:'6',0111:'7',1000:'8',1001:'9',1010:'a',1011:'b',1100:'c',1101:'d',1110:'e',1111:'f'}\n",
    "        bit_16=[]\n",
    "        while(num/16!=-1):\n",
    "            bit_16.append(num%16)\n",
    "            num=num/16\n",
    "        # 这里恰好计算了补码，不用再做之前的步骤了\n",
    "        bit_16.append(num)\n",
    "        bit_16=bit_16[::-1]\n",
    "        bit_16_str=[]\n",
    "        for i in bit_16:\n",
    "            bit_16_str.append(d[dlist[i]])\n",
    "        l=len(bit_16_str)\n",
    "        print bit_16_str\n",
    "        if l < 8:\n",
    "            tmp=['f']*(8-l)\n",
    "            print(tmp)\n",
    "            bit_16_str[0:0]=tmp\n",
    "        return ''.join(bit_16_str)\n",
    "        "
   ]
  },
  {
   "cell_type": "code",
   "execution_count": 52,
   "metadata": {
    "collapsed": false
   },
   "outputs": [
    {
     "name": "stdout",
     "output_type": "stream",
     "text": [
      "['5', 'a', 'd']\n",
      "['f', 'f', 'f', 'f', 'f']\n"
     ]
    },
    {
     "data": {
      "text/plain": [
       "'fffff5ad'"
      ]
     },
     "execution_count": 52,
     "metadata": {},
     "output_type": "execute_result"
    }
   ],
   "source": [
    "toHex_first(-2643)"
   ]
  }
 ],
 "metadata": {
  "kernelspec": {
   "display_name": "Python 2",
   "language": "python",
   "name": "python2"
  },
  "language_info": {
   "codemirror_mode": {
    "name": "ipython",
    "version": 2
   },
   "file_extension": ".py",
   "mimetype": "text/x-python",
   "name": "python",
   "nbconvert_exporter": "python",
   "pygments_lexer": "ipython2",
   "version": "2.7.13"
  }
 },
 "nbformat": 4,
 "nbformat_minor": 2
}
